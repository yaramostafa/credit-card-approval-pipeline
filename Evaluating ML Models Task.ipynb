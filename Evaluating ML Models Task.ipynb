{
 "cells": [
  {
   "cell_type": "markdown",
   "id": "b33b8de6-7d40-4bfa-b4f5-9a24bade79ac",
   "metadata": {},
   "source": [
    "# Libraries "
   ]
  },
  {
   "cell_type": "code",
   "execution_count": 9,
   "id": "b09b9ab8-da30-4c44-8759-0472b11ca2a3",
   "metadata": {},
   "outputs": [],
   "source": [
    "import pandas as pd\n",
    "import numpy as np\n",
    "# Data preprocessing libraries\n",
    "from sklearn.preprocessing import OneHotEncoder\n",
    "from sklearn.compose import ColumnTransformer\n",
    "from sklearn.pipeline import Pipeline\n",
    "from sklearn.impute import SimpleImputer\n",
    "from sklearn.preprocessing import LabelEncoder\n",
    "from sklearn.preprocessing import StandardScaler\n",
    "# Models libraries\n",
    "from sklearn.ensemble import RandomForestClassifier\n",
    "# from sklearn.svm import SVC\n",
    "from xgboost import XGBClassifier\n",
    "from sklearn.linear_model import LogisticRegression\n",
    "# Evaluation libraries\n",
    "from sklearn.metrics import classification_report, accuracy_score"
   ]
  },
  {
   "cell_type": "markdown",
   "id": "62ef85ec-8690-4af3-aadc-83f6f0270c1c",
   "metadata": {},
   "source": [
    "# Credit card data analysis"
   ]
  },
  {
   "cell_type": "code",
   "execution_count": 17,
   "id": "b2fa0120-d006-40a0-b78e-1ac34cc6ea5a",
   "metadata": {},
   "outputs": [
    {
     "data": {
      "text/html": [
       "<div>\n",
       "<style scoped>\n",
       "    .dataframe tbody tr th:only-of-type {\n",
       "        vertical-align: middle;\n",
       "    }\n",
       "\n",
       "    .dataframe tbody tr th {\n",
       "        vertical-align: top;\n",
       "    }\n",
       "\n",
       "    .dataframe thead th {\n",
       "        text-align: right;\n",
       "    }\n",
       "</style>\n",
       "<table border=\"1\" class=\"dataframe\">\n",
       "  <thead>\n",
       "    <tr style=\"text-align: right;\">\n",
       "      <th></th>\n",
       "      <th>Num_Children</th>\n",
       "      <th>Gender</th>\n",
       "      <th>Income</th>\n",
       "      <th>Own_Car</th>\n",
       "      <th>Own_Housing</th>\n",
       "      <th>Credit_Card_Issuing</th>\n",
       "    </tr>\n",
       "  </thead>\n",
       "  <tbody>\n",
       "    <tr>\n",
       "      <th>0</th>\n",
       "      <td>1</td>\n",
       "      <td>Male</td>\n",
       "      <td>40690</td>\n",
       "      <td>No</td>\n",
       "      <td>Yes</td>\n",
       "      <td>Denied</td>\n",
       "    </tr>\n",
       "    <tr>\n",
       "      <th>1</th>\n",
       "      <td>2</td>\n",
       "      <td>Female</td>\n",
       "      <td>75469</td>\n",
       "      <td>Yes</td>\n",
       "      <td>No</td>\n",
       "      <td>Denied</td>\n",
       "    </tr>\n",
       "    <tr>\n",
       "      <th>2</th>\n",
       "      <td>1</td>\n",
       "      <td>Male</td>\n",
       "      <td>70497</td>\n",
       "      <td>Yes</td>\n",
       "      <td>Yes</td>\n",
       "      <td>Approved</td>\n",
       "    </tr>\n",
       "    <tr>\n",
       "      <th>3</th>\n",
       "      <td>1</td>\n",
       "      <td>Male</td>\n",
       "      <td>61000</td>\n",
       "      <td>No</td>\n",
       "      <td>No</td>\n",
       "      <td>Denied</td>\n",
       "    </tr>\n",
       "    <tr>\n",
       "      <th>4</th>\n",
       "      <td>1</td>\n",
       "      <td>Male</td>\n",
       "      <td>56666</td>\n",
       "      <td>Yes</td>\n",
       "      <td>Yes</td>\n",
       "      <td>Denied</td>\n",
       "    </tr>\n",
       "  </tbody>\n",
       "</table>\n",
       "</div>"
      ],
      "text/plain": [
       "   Num_Children  Gender  Income Own_Car Own_Housing Credit_Card_Issuing\n",
       "0             1    Male   40690      No         Yes              Denied\n",
       "1             2  Female   75469     Yes          No              Denied\n",
       "2             1    Male   70497     Yes         Yes            Approved\n",
       "3             1    Male   61000      No          No              Denied\n",
       "4             1    Male   56666     Yes         Yes              Denied"
      ]
     },
     "execution_count": 17,
     "metadata": {},
     "output_type": "execute_result"
    }
   ],
   "source": [
    "df = pd.read_csv(\"credit_card_train.csv\")\n",
    "df.head()"
   ]
  },
  {
   "cell_type": "code",
   "execution_count": 18,
   "id": "91d047bc-4a6d-43ec-a9a7-14a8b5691cb3",
   "metadata": {},
   "outputs": [
    {
     "name": "stdout",
     "output_type": "stream",
     "text": [
      "<class 'pandas.core.frame.DataFrame'>\n",
      "RangeIndex: 400000 entries, 0 to 399999\n",
      "Data columns (total 6 columns):\n",
      " #   Column               Non-Null Count   Dtype \n",
      "---  ------               --------------   ----- \n",
      " 0   Num_Children         400000 non-null  int64 \n",
      " 1   Gender               400000 non-null  object\n",
      " 2   Income               400000 non-null  int64 \n",
      " 3   Own_Car              400000 non-null  object\n",
      " 4   Own_Housing          400000 non-null  object\n",
      " 5   Credit_Card_Issuing  400000 non-null  object\n",
      "dtypes: int64(2), object(4)\n",
      "memory usage: 18.3+ MB\n"
     ]
    }
   ],
   "source": [
    "df.info()"
   ]
  },
  {
   "cell_type": "code",
   "execution_count": 19,
   "id": "5e850661-569a-4bfd-b83a-91dcca8161ff",
   "metadata": {},
   "outputs": [
    {
     "data": {
      "text/html": [
       "<div>\n",
       "<style scoped>\n",
       "    .dataframe tbody tr th:only-of-type {\n",
       "        vertical-align: middle;\n",
       "    }\n",
       "\n",
       "    .dataframe tbody tr th {\n",
       "        vertical-align: top;\n",
       "    }\n",
       "\n",
       "    .dataframe thead th {\n",
       "        text-align: right;\n",
       "    }\n",
       "</style>\n",
       "<table border=\"1\" class=\"dataframe\">\n",
       "  <thead>\n",
       "    <tr style=\"text-align: right;\">\n",
       "      <th></th>\n",
       "      <th>Num_Children</th>\n",
       "      <th>Income</th>\n",
       "    </tr>\n",
       "  </thead>\n",
       "  <tbody>\n",
       "    <tr>\n",
       "      <th>count</th>\n",
       "      <td>400000.000000</td>\n",
       "      <td>400000.000000</td>\n",
       "    </tr>\n",
       "    <tr>\n",
       "      <th>mean</th>\n",
       "      <td>2.000892</td>\n",
       "      <td>72517.997500</td>\n",
       "    </tr>\n",
       "    <tr>\n",
       "      <th>std</th>\n",
       "      <td>1.410704</td>\n",
       "      <td>22955.502862</td>\n",
       "    </tr>\n",
       "    <tr>\n",
       "      <th>min</th>\n",
       "      <td>0.000000</td>\n",
       "      <td>30000.000000</td>\n",
       "    </tr>\n",
       "    <tr>\n",
       "      <th>25%</th>\n",
       "      <td>1.000000</td>\n",
       "      <td>53336.000000</td>\n",
       "    </tr>\n",
       "    <tr>\n",
       "      <th>50%</th>\n",
       "      <td>2.000000</td>\n",
       "      <td>72077.000000</td>\n",
       "    </tr>\n",
       "    <tr>\n",
       "      <th>75%</th>\n",
       "      <td>3.000000</td>\n",
       "      <td>90669.000000</td>\n",
       "    </tr>\n",
       "    <tr>\n",
       "      <th>max</th>\n",
       "      <td>11.000000</td>\n",
       "      <td>119999.000000</td>\n",
       "    </tr>\n",
       "  </tbody>\n",
       "</table>\n",
       "</div>"
      ],
      "text/plain": [
       "        Num_Children         Income\n",
       "count  400000.000000  400000.000000\n",
       "mean        2.000892   72517.997500\n",
       "std         1.410704   22955.502862\n",
       "min         0.000000   30000.000000\n",
       "25%         1.000000   53336.000000\n",
       "50%         2.000000   72077.000000\n",
       "75%         3.000000   90669.000000\n",
       "max        11.000000  119999.000000"
      ]
     },
     "execution_count": 19,
     "metadata": {},
     "output_type": "execute_result"
    }
   ],
   "source": [
    "df.describe()"
   ]
  },
  {
   "cell_type": "code",
   "execution_count": 22,
   "id": "177d0808-2f54-4759-b6e5-cc0338d5fd59",
   "metadata": {},
   "outputs": [
    {
     "data": {
      "text/plain": [
       "(400000, 6)"
      ]
     },
     "execution_count": 22,
     "metadata": {},
     "output_type": "execute_result"
    }
   ],
   "source": [
    "df.shape"
   ]
  },
  {
   "cell_type": "code",
   "execution_count": 25,
   "id": "403ad561-dbf6-4fae-b053-452374e7d2ec",
   "metadata": {},
   "outputs": [
    {
     "data": {
      "text/plain": [
       "Num_Children              12\n",
       "Gender                     2\n",
       "Income                 87525\n",
       "Own_Car                    2\n",
       "Own_Housing                2\n",
       "Credit_Card_Issuing        2\n",
       "dtype: int64"
      ]
     },
     "execution_count": 25,
     "metadata": {},
     "output_type": "execute_result"
    }
   ],
   "source": [
    "df.nunique()"
   ]
  },
  {
   "cell_type": "markdown",
   "id": "701969e6-753e-409a-a9ba-3b800299efa5",
   "metadata": {},
   "source": [
    "# Data Preprocessing "
   ]
  },
  {
   "cell_type": "code",
   "execution_count": 28,
   "id": "c138d11e-c1bc-4ca8-a320-113d248dc821",
   "metadata": {},
   "outputs": [],
   "source": [
    "categ_cols = ['Gender', 'Own_Car', 'Own_Housing']\n",
    "\n",
    "preprocessor = ColumnTransformer(transformers=[('df', OneHotEncoder(), categ_cols)], remainder='passthrough')\n"
   ]
  },
  {
   "cell_type": "code",
   "execution_count": 30,
   "id": "32a41b3b-14da-480a-9d41-f83a1bc54186",
   "metadata": {},
   "outputs": [
    {
     "data": {
      "text/plain": [
       "array([1, 1, 0, ..., 1, 0, 1])"
      ]
     },
     "execution_count": 30,
     "metadata": {},
     "output_type": "execute_result"
    }
   ],
   "source": [
    "X = df.drop(columns=['Credit_Card_Issuing'])\n",
    "y = df['Credit_Card_Issuing'] # our target 0: denied, 1: approved\n",
    "label_encoder = LabelEncoder()\n",
    "y_encoded = label_encoder.fit_transform(y)\n",
    "y_encoded\n"
   ]
  },
  {
   "cell_type": "markdown",
   "id": "d391bf4a-1d82-465a-bbfa-37408aa0d1b2",
   "metadata": {},
   "source": [
    "# Data Splitting"
   ]
  },
  {
   "cell_type": "code",
   "execution_count": 33,
   "id": "9b9f64c9-7e83-48b2-aea9-c05067f2a868",
   "metadata": {},
   "outputs": [],
   "source": [
    "from sklearn.model_selection import train_test_split"
   ]
  },
  {
   "cell_type": "code",
   "execution_count": 35,
   "id": "76f0866c-950a-40a2-b366-f9139f05f70b",
   "metadata": {},
   "outputs": [],
   "source": [
    "X_train, X_test, y_train, y_test = train_test_split(X,y_encoded, test_size=0.2, random_state=42)"
   ]
  },
  {
   "cell_type": "code",
   "execution_count": 64,
   "id": "2e5b3087-60ac-46ee-bc4e-b3a322b92dd9",
   "metadata": {},
   "outputs": [
    {
     "data": {
      "text/html": [
       "<div>\n",
       "<style scoped>\n",
       "    .dataframe tbody tr th:only-of-type {\n",
       "        vertical-align: middle;\n",
       "    }\n",
       "\n",
       "    .dataframe tbody tr th {\n",
       "        vertical-align: top;\n",
       "    }\n",
       "\n",
       "    .dataframe thead th {\n",
       "        text-align: right;\n",
       "    }\n",
       "</style>\n",
       "<table border=\"1\" class=\"dataframe\">\n",
       "  <thead>\n",
       "    <tr style=\"text-align: right;\">\n",
       "      <th></th>\n",
       "      <th>Num_Children</th>\n",
       "      <th>Gender</th>\n",
       "      <th>Income</th>\n",
       "      <th>Own_Car</th>\n",
       "      <th>Own_Housing</th>\n",
       "    </tr>\n",
       "  </thead>\n",
       "  <tbody>\n",
       "    <tr>\n",
       "      <th>23218</th>\n",
       "      <td>4</td>\n",
       "      <td>Male</td>\n",
       "      <td>73649</td>\n",
       "      <td>No</td>\n",
       "      <td>No</td>\n",
       "    </tr>\n",
       "    <tr>\n",
       "      <th>20731</th>\n",
       "      <td>0</td>\n",
       "      <td>Female</td>\n",
       "      <td>44380</td>\n",
       "      <td>No</td>\n",
       "      <td>No</td>\n",
       "    </tr>\n",
       "    <tr>\n",
       "      <th>39555</th>\n",
       "      <td>0</td>\n",
       "      <td>Female</td>\n",
       "      <td>42337</td>\n",
       "      <td>Yes</td>\n",
       "      <td>No</td>\n",
       "    </tr>\n",
       "    <tr>\n",
       "      <th>147506</th>\n",
       "      <td>1</td>\n",
       "      <td>Male</td>\n",
       "      <td>47694</td>\n",
       "      <td>No</td>\n",
       "      <td>No</td>\n",
       "    </tr>\n",
       "    <tr>\n",
       "      <th>314215</th>\n",
       "      <td>2</td>\n",
       "      <td>Female</td>\n",
       "      <td>60443</td>\n",
       "      <td>No</td>\n",
       "      <td>No</td>\n",
       "    </tr>\n",
       "    <tr>\n",
       "      <th>190913</th>\n",
       "      <td>2</td>\n",
       "      <td>Male</td>\n",
       "      <td>92531</td>\n",
       "      <td>Yes</td>\n",
       "      <td>No</td>\n",
       "    </tr>\n",
       "  </tbody>\n",
       "</table>\n",
       "</div>"
      ],
      "text/plain": [
       "        Num_Children  Gender  Income Own_Car Own_Housing\n",
       "23218              4    Male   73649      No          No\n",
       "20731              0  Female   44380      No          No\n",
       "39555              0  Female   42337     Yes          No\n",
       "147506             1    Male   47694      No          No\n",
       "314215             2  Female   60443      No          No\n",
       "190913             2    Male   92531     Yes          No"
      ]
     },
     "execution_count": 64,
     "metadata": {},
     "output_type": "execute_result"
    }
   ],
   "source": [
    "X_test.head(6)"
   ]
  },
  {
   "cell_type": "markdown",
   "id": "836489b8-d703-4cfb-9ad4-4f2dbb598498",
   "metadata": {},
   "source": [
    "# Model Training"
   ]
  },
  {
   "cell_type": "code",
   "execution_count": 38,
   "id": "e6e13122-2216-40e6-ab37-3debaf9de272",
   "metadata": {},
   "outputs": [],
   "source": [
    "rfc = RandomForestClassifier()\n",
    "# svm = SVC(kernel='rbf', C=1.0, probability=True)\n",
    "log_reg = LogisticRegression()\n",
    "xgb = XGBClassifier(use_label_encoder=False)                       "
   ]
  },
  {
   "cell_type": "code",
   "execution_count": 40,
   "id": "4aa13a31-3904-4188-ba32-20e6a4cdc8d5",
   "metadata": {},
   "outputs": [],
   "source": [
    "import joblib"
   ]
  },
  {
   "cell_type": "code",
   "execution_count": 46,
   "id": "31691317-f1f2-43fa-994d-12e3bb8ee070",
   "metadata": {},
   "outputs": [],
   "source": [
    "def train_and_evaluate(model_name, model_instance):\n",
    "    # the pipeline\n",
    "    model = Pipeline(steps=[\n",
    "        ('preprocessor', preprocessor),\n",
    "        ('standardization', StandardScaler()),\n",
    "        ('ClassifierModel', model_instance)\n",
    "    ])\n",
    "    \n",
    "    print(\"Training \",model_name)\n",
    "    \n",
    "    # Train the model\n",
    "    model.fit(X_train, y_train)\n",
    "    \n",
    "    # Save the trained pipeline to a file\n",
    "    pipeline_filename = f'{model_name.lower().replace(\" \", \"_\")}_pipeline.pkl'\n",
    "    joblib.dump(model, pipeline_filename)\n",
    "    print(f\"Trained pipeline saved as {pipeline_filename}\")\n",
    "    \n",
    "    y_pred = model.predict(X_test)\n",
    "\n",
    "    # Convert the predictions back to 'Approved' and 'Denied' if needed\n",
    "    # y_pred_labels = label_encoder.inverse_transform(y_pred)\n",
    "    \n",
    "    # Evaluate performance on the entire test set\n",
    "    accuracy = accuracy_score(y_test, y_pred)\n",
    "    print(\"\\nOverall Model Performance:\")\n",
    "    print(f\"Accuracy for {model_name}: {accuracy * 100:.2f}%\")\n",
    "    \n",
    "    # Evaluate the model's performance\n",
    "    print(\"Classification Report:\")\n",
    "    print(classification_report(y_test, y_pred))  # Using numeric labels\n",
    "    print(\"Predicted labels:\", y_pred[:10]) \n",
    "\n",
    "    # Bias/Fairness Evaluation: Check classification reports for males and females\n",
    "    male_indices = (X_test['Gender'] == 'Male').values  # Adjust as per your data format\n",
    "    female_indices = (X_test['Gender'] == 'Female').values\n",
    "\n",
    "    y_pred_male = model.predict(X_test[male_indices])\n",
    "    y_true_male = y_test[male_indices]\n",
    "    y_pred_female = model.predict(X_test[female_indices])\n",
    "    y_true_female = y_test[female_indices]\n",
    "\n",
    "    print(\"\\nBias/Fairness Evaluation:\")\n",
    "    print(f\"Male Classification Report for {model_name}:\")\n",
    "    print(classification_report(y_true_male, y_pred_male))\n",
    "    print(f\"Female Classification Report for {model_name}:\")\n",
    "    print(classification_report(y_true_female, y_pred_female))\n",
    "\n",
    "    # Variance: Compare training and test performance\n",
    "    y_train_pred = model.predict(X_train)\n",
    "    train_accuracy = accuracy_score(y_train, y_train_pred)\n",
    "    print(\"\\nVariance Check:\")\n",
    "    print(f\"Training Accuracy for {model_name}: {train_accuracy * 100:.2f}%\")\n",
    "    print(f\"Test Accuracy for {model_name}: {accuracy * 100:.2f}%\")\n",
    "\n",
    "    # Get feature importances from the model (if supported by model used)\n",
    "    if hasattr(model.named_steps['ClassifierModel'], 'feature_importances_'):\n",
    "        importances = model.named_steps['ClassifierModel'].feature_importances_\n",
    "        feature_names = preprocessor.get_feature_names_out()\n",
    "        feature_importance_df = pd.DataFrame({\n",
    "            'Feature': feature_names,\n",
    "            'Importance': importances\n",
    "        }).sort_values(by='Importance', ascending=False)\n",
    "        print(feature_importance_df)\n",
    "    else:\n",
    "        print(f\"{model_name} does not support feature importances.\")"
   ]
  },
  {
   "cell_type": "code",
   "execution_count": 18,
   "id": "fed7bf26-c570-4583-9992-239f904f666d",
   "metadata": {},
   "outputs": [
    {
     "name": "stdout",
     "output_type": "stream",
     "text": [
      "Training  Random Forests\n",
      "\n",
      "Overall Model Performance:\n",
      "Accuracy for Random Forests: 96.47%\n",
      "Classification Report:\n",
      "              precision    recall  f1-score   support\n",
      "\n",
      "           0       0.96      0.95      0.95     30931\n",
      "           1       0.97      0.97      0.97     49069\n",
      "\n",
      "    accuracy                           0.96     80000\n",
      "   macro avg       0.96      0.96      0.96     80000\n",
      "weighted avg       0.96      0.96      0.96     80000\n",
      "\n",
      "Predicted labels: [1 1 1 1 1 0 0 0 1 0]\n",
      "\n",
      "Bias/Fairness Evaluation:\n",
      "Male Classification Report for Random Forests:\n",
      "              precision    recall  f1-score   support\n",
      "\n",
      "           0       0.97      0.97      0.97     22910\n",
      "           1       0.96      0.96      0.96     17045\n",
      "\n",
      "    accuracy                           0.97     39955\n",
      "   macro avg       0.97      0.97      0.97     39955\n",
      "weighted avg       0.97      0.97      0.97     39955\n",
      "\n",
      "Female Classification Report for Random Forests:\n",
      "              precision    recall  f1-score   support\n",
      "\n",
      "           0       0.91      0.91      0.91      8021\n",
      "           1       0.98      0.98      0.98     32024\n",
      "\n",
      "    accuracy                           0.96     40045\n",
      "   macro avg       0.94      0.94      0.94     40045\n",
      "weighted avg       0.96      0.96      0.96     40045\n",
      "\n",
      "\n",
      "Variance Check:\n",
      "Training Accuracy for Random Forests: 99.77%\n",
      "Test Accuracy for Random Forests: 96.47%\n",
      "                   Feature  Importance\n",
      "7        remainder__Income    0.854586\n",
      "0        df__Gender_Female    0.056373\n",
      "1          df__Gender_Male    0.056332\n",
      "4       df__Own_Housing_No    0.012218\n",
      "5      df__Own_Housing_Yes    0.011618\n",
      "3          df__Own_Car_Yes    0.003582\n",
      "2           df__Own_Car_No    0.003323\n",
      "6  remainder__Num_Children    0.001969\n"
     ]
    }
   ],
   "source": [
    "train_and_evaluate(\"Random Forests\", rfc)"
   ]
  },
  {
   "cell_type": "code",
   "execution_count": 19,
   "id": "d2da5cd9-cf88-4058-a448-2af40fafd8cd",
   "metadata": {},
   "outputs": [],
   "source": [
    "# train_and_evaluate(\"Support Vector Machine\", svm)"
   ]
  },
  {
   "cell_type": "code",
   "execution_count": 48,
   "id": "d50fa64a-6678-481d-b147-0234ca7d5ba1",
   "metadata": {},
   "outputs": [
    {
     "name": "stdout",
     "output_type": "stream",
     "text": [
      "Training  Logistic Regression\n",
      "Trained pipeline saved as logistic_regression_pipeline.pkl\n",
      "\n",
      "Overall Model Performance:\n",
      "Accuracy for Logistic Regression: 97.25%\n",
      "Classification Report:\n",
      "              precision    recall  f1-score   support\n",
      "\n",
      "           0       0.96      0.96      0.96     30931\n",
      "           1       0.98      0.98      0.98     49069\n",
      "\n",
      "    accuracy                           0.97     80000\n",
      "   macro avg       0.97      0.97      0.97     80000\n",
      "weighted avg       0.97      0.97      0.97     80000\n",
      "\n",
      "Predicted labels: [1 1 1 1 1 0 0 0 1 0]\n",
      "\n",
      "Bias/Fairness Evaluation:\n",
      "Male Classification Report for Logistic Regression:\n",
      "              precision    recall  f1-score   support\n",
      "\n",
      "           0       0.98      0.98      0.98     22910\n",
      "           1       0.97      0.97      0.97     17045\n",
      "\n",
      "    accuracy                           0.97     39955\n",
      "   macro avg       0.97      0.97      0.97     39955\n",
      "weighted avg       0.97      0.97      0.97     39955\n",
      "\n",
      "Female Classification Report for Logistic Regression:\n",
      "              precision    recall  f1-score   support\n",
      "\n",
      "           0       0.93      0.93      0.93      8021\n",
      "           1       0.98      0.98      0.98     32024\n",
      "\n",
      "    accuracy                           0.97     40045\n",
      "   macro avg       0.96      0.95      0.95     40045\n",
      "weighted avg       0.97      0.97      0.97     40045\n",
      "\n",
      "\n",
      "Variance Check:\n",
      "Training Accuracy for Logistic Regression: 97.31%\n",
      "Test Accuracy for Logistic Regression: 97.25%\n",
      "Logistic Regression does not support feature importances.\n"
     ]
    }
   ],
   "source": [
    "train_and_evaluate(\"Logistic Regression\", log_reg)"
   ]
  },
  {
   "cell_type": "code",
   "execution_count": 21,
   "id": "fd5a9764-2f54-4c03-93a1-739f26637b8e",
   "metadata": {},
   "outputs": [
    {
     "name": "stdout",
     "output_type": "stream",
     "text": [
      "Training  XGBoost\n"
     ]
    },
    {
     "name": "stderr",
     "output_type": "stream",
     "text": [
      "D:\\Users\\yara.maraey\\anaconda\\Lib\\site-packages\\xgboost\\core.py:158: UserWarning: [16:41:13] WARNING: C:\\buildkite-agent\\builds\\buildkite-windows-cpu-autoscaling-group-i-0c55ff5f71b100e98-1\\xgboost\\xgboost-ci-windows\\src\\learner.cc:740: \n",
      "Parameters: { \"use_label_encoder\" } are not used.\n",
      "\n",
      "  warnings.warn(smsg, UserWarning)\n"
     ]
    },
    {
     "name": "stdout",
     "output_type": "stream",
     "text": [
      "\n",
      "Overall Model Performance:\n",
      "Accuracy for XGBoost: 97.24%\n",
      "Classification Report:\n",
      "              precision    recall  f1-score   support\n",
      "\n",
      "           0       0.97      0.96      0.96     30931\n",
      "           1       0.98      0.98      0.98     49069\n",
      "\n",
      "    accuracy                           0.97     80000\n",
      "   macro avg       0.97      0.97      0.97     80000\n",
      "weighted avg       0.97      0.97      0.97     80000\n",
      "\n",
      "Predicted labels: [1 1 1 1 1 0 0 0 1 0]\n",
      "\n",
      "Bias/Fairness Evaluation:\n",
      "Male Classification Report for XGBoost:\n",
      "              precision    recall  f1-score   support\n",
      "\n",
      "           0       0.98      0.98      0.98     22910\n",
      "           1       0.97      0.97      0.97     17045\n",
      "\n",
      "    accuracy                           0.97     39955\n",
      "   macro avg       0.97      0.97      0.97     39955\n",
      "weighted avg       0.97      0.97      0.97     39955\n",
      "\n",
      "Female Classification Report for XGBoost:\n",
      "              precision    recall  f1-score   support\n",
      "\n",
      "           0       0.93      0.92      0.93      8021\n",
      "           1       0.98      0.98      0.98     32024\n",
      "\n",
      "    accuracy                           0.97     40045\n",
      "   macro avg       0.96      0.95      0.96     40045\n",
      "weighted avg       0.97      0.97      0.97     40045\n",
      "\n",
      "\n",
      "Variance Check:\n",
      "Training Accuracy for XGBoost: 97.39%\n",
      "Test Accuracy for XGBoost: 97.24%\n",
      "                   Feature  Importance\n",
      "0        df__Gender_Female    0.472414\n",
      "7        remainder__Income    0.346992\n",
      "4       df__Own_Housing_No    0.157003\n",
      "2           df__Own_Car_No    0.023119\n",
      "6  remainder__Num_Children    0.000472\n",
      "1          df__Gender_Male    0.000000\n",
      "3          df__Own_Car_Yes    0.000000\n",
      "5      df__Own_Housing_Yes    0.000000\n"
     ]
    }
   ],
   "source": [
    "train_and_evaluate(\"XGBoost\", xgb)"
   ]
  },
  {
   "cell_type": "code",
   "execution_count": null,
   "id": "816d0a2a-6a3e-43eb-be7e-8fdb7a6fa110",
   "metadata": {},
   "outputs": [],
   "source": []
  },
  {
   "cell_type": "code",
   "execution_count": 66,
   "id": "9f96cf7b-342b-4017-8818-ebbf8126f27d",
   "metadata": {},
   "outputs": [
    {
     "name": "stdout",
     "output_type": "stream",
     "text": [
      "Predictions: [0]\n"
     ]
    }
   ],
   "source": [
    "# Load the pipeline\n",
    "pipeline = joblib.load('logistic_regression_pipeline.pkl')\n",
    "\n",
    "# Example of using the loaded pipeline for prediction\n",
    "new_data = pd.DataFrame({\n",
    "    'Num_Children': [2],\n",
    "    'Gender': ['Male'],\n",
    "    'Income': [92531],\n",
    "    'Own_Car': ['No'],\n",
    "    'Own_Housing': ['No']\n",
    "})\n",
    "\n",
    "predictions = pipeline.predict(new_data)\n",
    "print(\"Predictions:\", predictions)"
   ]
  }
 ],
 "metadata": {
  "kernelspec": {
   "display_name": "Python 3 (ipykernel)",
   "language": "python",
   "name": "python3"
  },
  "language_info": {
   "codemirror_mode": {
    "name": "ipython",
    "version": 3
   },
   "file_extension": ".py",
   "mimetype": "text/x-python",
   "name": "python",
   "nbconvert_exporter": "python",
   "pygments_lexer": "ipython3",
   "version": "3.12.4"
  }
 },
 "nbformat": 4,
 "nbformat_minor": 5
}
